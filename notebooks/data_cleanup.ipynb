{
 "cells": [
  {
   "cell_type": "code",
   "execution_count": null,
   "metadata": {
    "_cell_guid": "b1076dfc-b9ad-4769-8c92-a6c4dae69d19",
    "_uuid": "8f2839f25d086af736a60e9eeb907d3b93b6e0e5",
    "execution": {
     "iopub.execute_input": "2022-02-11T05:53:13.748629Z",
     "iopub.status.busy": "2022-02-11T05:53:13.747663Z",
     "iopub.status.idle": "2022-02-11T05:53:13.759225Z",
     "shell.execute_reply": "2022-02-11T05:53:13.758149Z",
     "shell.execute_reply.started": "2022-02-11T05:53:13.748582Z"
    }
   },
   "outputs": [],
   "source": [
    "import numpy as np # linear algebra\n",
    "import pandas as pd # data processing, CSV file I/O (e.g. pd.read_csv)\n",
    "import os\n",
    "# for dirname, _, filenames in os.walk('/kaggle/input'):\n",
    "#     for filename in filenames:\n",
    "#         print(os.path.join(dirname, filename))"
   ]
  },
  {
   "cell_type": "code",
   "execution_count": null,
   "metadata": {
    "execution": {
     "iopub.execute_input": "2022-02-11T05:57:17.593536Z",
     "iopub.status.busy": "2022-02-11T05:57:17.593073Z",
     "iopub.status.idle": "2022-02-11T05:57:35.48161Z",
     "shell.execute_reply": "2022-02-11T05:57:35.480969Z",
     "shell.execute_reply.started": "2022-02-11T05:57:17.593495Z"
    }
   },
   "outputs": [],
   "source": [
    "%%time\n",
    "user_ratings=pd.read_csv('../data//user_ratings.csv')\n",
    "sub_ctg=pd.read_csv('../data//subcategories.csv')\n",
    "# artist=pd.read_csv('../data//artists_reduced.csv')\n",
    "publisher=pd.read_csv('../data//publishers_reduced.csv')\n",
    "game_df=pd.read_csv('../data//games.csv')\n",
    "themes = pd.read_csv('../data//themes.csv')\n",
    "ratings = pd.read_csv('../data//ratings_distribution.csv')\n",
    "mechanics = pd.read_csv('../data//mechanics.csv')"
   ]
  },
  {
   "cell_type": "markdown",
   "metadata": {},
   "source": [
    "### Remove unwanted columns "
   ]
  },
  {
   "cell_type": "code",
   "execution_count": null,
   "metadata": {
    "execution": {
     "iopub.execute_input": "2022-02-11T05:57:35.484195Z",
     "iopub.status.busy": "2022-02-11T05:57:35.483292Z",
     "iopub.status.idle": "2022-02-11T05:57:35.526762Z",
     "shell.execute_reply": "2022-02-11T05:57:35.525894Z",
     "shell.execute_reply.started": "2022-02-11T05:57:35.48415Z"
    }
   },
   "outputs": [],
   "source": [
    "game_df = game_df.drop(['BestPlayers', 'GoodPlayers','Family','ImagePath', 'LanguageEase'], axis=1)\n",
    "game_df"
   ]
  },
  {
   "cell_type": "code",
   "execution_count": null,
   "metadata": {
    "execution": {
     "iopub.execute_input": "2022-02-11T05:57:35.529166Z",
     "iopub.status.busy": "2022-02-11T05:57:35.528564Z",
     "iopub.status.idle": "2022-02-11T05:57:35.533662Z",
     "shell.execute_reply": "2022-02-11T05:57:35.532585Z",
     "shell.execute_reply.started": "2022-02-11T05:57:35.52912Z"
    }
   },
   "outputs": [],
   "source": [
    "# No drops in mechanics\n",
    "# No drops in publishers\n",
    "# No drops in sub_ctg"
   ]
  },
  {
   "cell_type": "markdown",
   "metadata": {},
   "source": [
    "### Filling NaNs\n",
    "\n",
    "ComAgeRec is found to be missing in many rows. We use general conventions to fill missing values"
   ]
  },
  {
   "cell_type": "code",
   "execution_count": null,
   "metadata": {
    "execution": {
     "iopub.execute_input": "2022-02-11T05:57:35.535543Z",
     "iopub.status.busy": "2022-02-11T05:57:35.535324Z",
     "iopub.status.idle": "2022-02-11T05:57:35.557508Z",
     "shell.execute_reply": "2022-02-11T05:57:35.556324Z",
     "shell.execute_reply.started": "2022-02-11T05:57:35.535517Z"
    }
   },
   "outputs": [],
   "source": [
    "children_idx = game_df[game_df['Cat:Childrens'] == 1].index\n",
    "game_df.loc[children_idx, ['ComAgeRec']].fillna(7, inplace = True)\n",
    "family_idx = game_df[game_df['Cat:Family'] == 1].index\n",
    "game_df.loc[family_idx, ['ComAgeRec']].fillna(12, inplace = True)\n",
    "game_df.ComAgeRec = game_df.ComAgeRec.fillna(18)"
   ]
  },
  {
   "cell_type": "markdown",
   "metadata": {},
   "source": [
    "After this fill, we look for other NaN values"
   ]
  },
  {
   "cell_type": "code",
   "execution_count": null,
   "metadata": {
    "execution": {
     "iopub.execute_input": "2022-02-11T05:57:35.559167Z",
     "iopub.status.busy": "2022-02-11T05:57:35.558902Z",
     "iopub.status.idle": "2022-02-11T05:57:35.590835Z",
     "shell.execute_reply": "2022-02-11T05:57:35.589966Z",
     "shell.execute_reply.started": "2022-02-11T05:57:35.559138Z"
    }
   },
   "outputs": [],
   "source": [
    "game_df[game_df.isnull().values]"
   ]
  },
  {
   "cell_type": "markdown",
   "metadata": {},
   "source": [
    "Fill this value with placeholder string"
   ]
  },
  {
   "cell_type": "code",
   "execution_count": null,
   "metadata": {
    "execution": {
     "iopub.execute_input": "2022-02-11T05:57:42.619491Z",
     "iopub.status.busy": "2022-02-11T05:57:42.619043Z",
     "iopub.status.idle": "2022-02-11T05:57:42.637692Z",
     "shell.execute_reply": "2022-02-11T05:57:42.636793Z",
     "shell.execute_reply.started": "2022-02-11T05:57:42.619456Z"
    }
   },
   "outputs": [],
   "source": [
    "idx = game_df[game_df.isnull().values].index\n",
    "game_df.Description.loc[idx] = \"No Description Found\""
   ]
  },
  {
   "cell_type": "code",
   "execution_count": null,
   "metadata": {
    "execution": {
     "iopub.execute_input": "2022-02-11T05:57:54.848102Z",
     "iopub.status.busy": "2022-02-11T05:57:54.847826Z",
     "iopub.status.idle": "2022-02-11T05:57:55.861838Z",
     "shell.execute_reply": "2022-02-11T05:57:55.860865Z",
     "shell.execute_reply.started": "2022-02-11T05:57:54.848073Z"
    }
   },
   "outputs": [],
   "source": [
    "game_df.to_csv('games_cleaned.csv')"
   ]
  },
  {
   "cell_type": "code",
   "execution_count": null,
   "metadata": {},
   "outputs": [],
   "source": []
  },
  {
   "cell_type": "code",
   "execution_count": null,
   "metadata": {
    "execution": {
     "iopub.execute_input": "2022-02-11T05:54:23.362469Z",
     "iopub.status.busy": "2022-02-11T05:54:23.361278Z",
     "iopub.status.idle": "2022-02-11T05:54:23.368287Z",
     "shell.execute_reply": "2022-02-11T05:54:23.367434Z",
     "shell.execute_reply.started": "2022-02-11T05:54:23.362423Z"
    }
   },
   "outputs": [],
   "source": [
    "themes.columns"
   ]
  },
  {
   "cell_type": "code",
   "execution_count": null,
   "metadata": {
    "execution": {
     "iopub.execute_input": "2022-02-11T05:54:23.370373Z",
     "iopub.status.busy": "2022-02-11T05:54:23.369809Z",
     "iopub.status.idle": "2022-02-11T05:54:23.38165Z",
     "shell.execute_reply": "2022-02-11T05:54:23.381061Z",
     "shell.execute_reply.started": "2022-02-11T05:54:23.370319Z"
    }
   },
   "outputs": [],
   "source": [
    "sub_ctg.columns"
   ]
  },
  {
   "cell_type": "code",
   "execution_count": null,
   "metadata": {},
   "outputs": [],
   "source": []
  }
 ],
 "metadata": {
  "kernelspec": {
   "display_name": "Python 3 (ipykernel)",
   "language": "python",
   "name": "python3"
  },
  "language_info": {
   "codemirror_mode": {
    "name": "ipython",
    "version": 3
   },
   "file_extension": ".py",
   "mimetype": "text/x-python",
   "name": "python",
   "nbconvert_exporter": "python",
   "pygments_lexer": "ipython3",
   "version": "3.7.0"
  }
 },
 "nbformat": 4,
 "nbformat_minor": 4
}
